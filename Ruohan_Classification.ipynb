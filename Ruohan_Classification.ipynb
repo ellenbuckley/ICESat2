{
 "cells": [
  {
   "cell_type": "code",
   "execution_count": 1,
   "metadata": {},
   "outputs": [],
   "source": [
    "from osgeo import gdal, osr\n",
    "import os\n",
    "import io\n",
    "import matplotlib.pyplot as plt\n",
    "import matplotlib.colors as colors\n",
    "from matplotlib import cm\n",
    "from matplotlib.ticker import LinearLocator, FormatStrFormatter\n",
    "import sys, os\n",
    "sys.path.append('/Volumes/EllenBackup/ANALYSIS/ANALYSIS/IS2/S2/')\n",
    "import peakdet as f1\n",
    "from scipy.stats import skew, skewtest, iqr\n",
    "import pandas as pd\n",
    "import numpy as np\n",
    "from PIL import Image\n"
   ]
  },
  {
   "cell_type": "markdown",
   "metadata": {},
   "source": [
    "use bash to translate TCI from jp2 to geotif (you can just run this in your terminal if you aren't using jupyter notebooks)"
   ]
  },
  {
   "cell_type": "code",
   "execution_count": 2,
   "metadata": {},
   "outputs": [
    {
     "name": "stdout",
     "output_type": "stream",
     "text": [
      "Input file size is 10980, 10980\n",
      "0...10...20...30...40...50...60...70...80...90...100 - done.\n"
     ]
    }
   ],
   "source": [
    "!gdal_translate ~/Downloads/T10XEM_20190903T214049_TCI.jp2 ~/Downloads/T10XEM_20190903T214049_TCI.tif"
   ]
  },
  {
   "cell_type": "markdown",
   "metadata": {},
   "source": [
    "set file path (location of S2 images):"
   ]
  },
  {
   "cell_type": "code",
   "execution_count": 3,
   "metadata": {},
   "outputs": [],
   "source": [
    "file_path= '/Users/ellen.buckley/Downloads/'\n",
    "y='T10XEM_20190903T214049_TCI.tif'"
   ]
  },
  {
   "cell_type": "markdown",
   "metadata": {},
   "source": [
    "import S2 TCI"
   ]
  },
  {
   "cell_type": "code",
   "execution_count": 4,
   "metadata": {},
   "outputs": [],
   "source": [
    "\n",
    "im = gdal.Open(file_path+y)\n",
    "red=im.GetRasterBand(1).ReadAsArray()\n",
    "green=im.GetRasterBand(2).ReadAsArray() \n",
    "blue=im.GetRasterBand(3).ReadAsArray() \n",
    "\n",
    "size_m=np.shape(red)\n",
    "\n"
   ]
  },
  {
   "cell_type": "markdown",
   "metadata": {},
   "source": [
    "print info about the imported sentinel 2 image if interested:"
   ]
  },
  {
   "cell_type": "code",
   "execution_count": 5,
   "metadata": {},
   "outputs": [
    {
     "name": "stdout",
     "output_type": "stream",
     "text": [
      "Driver: GTiff/GeoTIFF\n",
      "Files: /Users/ellen.buckley/Downloads/T10XEM_20190903T214049_TCI.tif\n",
      "Size is 10980, 10980\n",
      "Coordinate System is:\n",
      "PROJCS[\"WGS 84 / UTM zone 10N\",\n",
      "    GEOGCS[\"WGS 84\",\n",
      "        DATUM[\"WGS_1984\",\n",
      "            SPHEROID[\"WGS 84\",6378137,298.257223563,\n",
      "                AUTHORITY[\"EPSG\",\"7030\"]],\n",
      "            AUTHORITY[\"EPSG\",\"6326\"]],\n",
      "        PRIMEM[\"Greenwich\",0,\n",
      "            AUTHORITY[\"EPSG\",\"8901\"]],\n",
      "        UNIT[\"degree\",0.0174532925199433,\n",
      "            AUTHORITY[\"EPSG\",\"9122\"]],\n",
      "        AUTHORITY[\"EPSG\",\"4326\"]],\n",
      "    PROJECTION[\"Transverse_Mercator\"],\n",
      "    PARAMETER[\"latitude_of_origin\",0],\n",
      "    PARAMETER[\"central_meridian\",-123],\n",
      "    PARAMETER[\"scale_factor\",0.9996],\n",
      "    PARAMETER[\"false_easting\",500000],\n",
      "    PARAMETER[\"false_northing\",0],\n",
      "    UNIT[\"metre\",1,\n",
      "        AUTHORITY[\"EPSG\",\"9001\"]],\n",
      "    AXIS[\"Easting\",EAST],\n",
      "    AXIS[\"Northing\",NORTH],\n",
      "    AUTHORITY[\"EPSG\",\"32610\"]]\n",
      "Origin = (499980.000000000000000,8700000.000000000000000)\n",
      "Pixel Size = (10.000000000000000,-10.000000000000000)\n",
      "Metadata:\n",
      "  AREA_OR_POINT=Area\n",
      "Image Structure Metadata:\n",
      "  INTERLEAVE=PIXEL\n",
      "Corner Coordinates:\n",
      "Upper Left  (  499980.000, 8700000.000) (123d 0' 3.20\"W, 78d22'22.89\"N)\n",
      "Lower Left  (  499980.000, 8590200.000) (123d 0' 2.95\"W, 77d23'20.94\"N)\n",
      "Upper Right (  609780.000, 8700000.000) (118d 7'55.55\"W, 78d19'55.47\"N)\n",
      "Lower Right (  609780.000, 8590200.000) (118d30'17.01\"W, 77d21' 5.31\"N)\n",
      "Center      (  554880.000, 8645100.000) (120d39'34.59\"W, 77d52'16.59\"N)\n",
      "Band 1 Block=10980x1 Type=Byte, ColorInterp=Red\n",
      "Band 2 Block=10980x1 Type=Byte, ColorInterp=Green\n",
      "Band 3 Block=10980x1 Type=Byte, ColorInterp=Blue\n",
      "\n"
     ]
    }
   ],
   "source": [
    "print(gdal.Info(im))"
   ]
  },
  {
   "cell_type": "markdown",
   "metadata": {},
   "source": [
    "make histograms for each channel in TCI"
   ]
  },
  {
   "cell_type": "code",
   "execution_count": 6,
   "metadata": {},
   "outputs": [
    {
     "data": {
      "text/plain": [
       "Text(0.5,1,'blue')"
      ]
     },
     "execution_count": 6,
     "metadata": {},
     "output_type": "execute_result"
    },
    {
     "data": {
      "image/png": "[encoded data removed]",
      "text/plain": [
       "<Figure size 864x216 with 3 Axes>"
      ]
     },
     "metadata": {
      "needs_background": "light"
     },
     "output_type": "display_data"
    }
   ],
   "source": [
    "binz=np.arange(0,270,10)\n",
    "size_m=np.shape(red)\n",
    "fig,ax=plt.subplots(1,3,figsize=(12,3))\n",
    "\n",
    "ax[0].hist(red.flatten(),bins=binz);\n",
    "ax[0].set_title('red')\n",
    "ax[1].hist(green.flatten(),bins=binz);\n",
    "ax[1].set_title('green')\n",
    "ax[2].hist(blue.flatten(),bins=binz);\n",
    "ax[2].set_title('blue')\n"
   ]
  },
  {
   "cell_type": "markdown",
   "metadata": {},
   "source": [
    "Okay, so clearly you can see theres a very obvious mode at bin 250-260. This is because the way the TCI is created and the bands are normalized and every value > 255 is set to 255. So these pixels are likely associated with ice (because they are so bright). So my first thought is to just set ice_pixel > 250 and see what happens:"
   ]
  },
  {
   "cell_type": "markdown",
   "metadata": {},
   "source": [
    "initiate boolean array size of S2 image"
   ]
  },
  {
   "cell_type": "code",
   "execution_count": 7,
   "metadata": {},
   "outputs": [],
   "source": [
    "ice_mask=np.zeros(size_m).astype(bool) "
   ]
  },
  {
   "cell_type": "markdown",
   "metadata": {},
   "source": [
    "set values in the ice_mask array as True if they are greater than 250."
   ]
  },
  {
   "cell_type": "code",
   "execution_count": 8,
   "metadata": {},
   "outputs": [],
   "source": [
    "ice_mask[red>250]=True "
   ]
  },
  {
   "cell_type": "markdown",
   "metadata": {},
   "source": [
    "So all the remaining pixels would be open water:"
   ]
  },
  {
   "cell_type": "code",
   "execution_count": 9,
   "metadata": {},
   "outputs": [],
   "source": [
    "ow_mask= ~ice_mask"
   ]
  },
  {
   "cell_type": "markdown",
   "metadata": {},
   "source": [
    "Now we recreate the image:"
   ]
  },
  {
   "cell_type": "code",
   "execution_count": 10,
   "metadata": {},
   "outputs": [],
   "source": [
    "red_c= np.array(red,copy= True)\n",
    "green_c= np.array(green,copy= True)\n",
    "blue_c= np.array(blue,copy= True)\n",
    "\n",
    "red_c[ice_mask]= 200\n",
    "green_c[ice_mask]= 0\n",
    "blue_c[ice_mask]= 0\n",
    "\n",
    "# red_c[mp_mask]= 200\n",
    "# green_c[mp_mask]= 200\n",
    "# blue_c[mp_mask]= 0\n",
    "\n",
    "red_c[ow_mask]= 0\n",
    "green_c[ow_mask]= 0\n",
    "blue_c[ow_mask]= 200\n",
    "\n",
    "rgbArray = np.zeros((size_m[0],size_m[1],3), 'uint8')\n",
    "rgbArray[..., 0] = red_c\n",
    "rgbArray[..., 1] = green_c\n",
    "rgbArray[..., 2] = blue_c\n",
    "img = Image.fromarray(rgbArray,'RGB')\n",
    "im_save3=file_path+y[:15]+'_test_class_TCI.png'\n",
    "img.save(im_save3)"
   ]
  },
  {
   "cell_type": "markdown",
   "metadata": {},
   "source": [
    "That worked really well for me. the ice and open water in your image are very distinct so it was easy to separate. In sets of images with non-uniform lighting of more complex surfaces (melt ponds, ice draft, or even land...) this process gets more complicated."
   ]
  },
  {
   "cell_type": "code",
   "execution_count": null,
   "metadata": {},
   "outputs": [],
   "source": []
  }
 ],
 "metadata": {
  "kernelspec": {
   "display_name": "Python 3",
   "language": "python",
   "name": "python3"
  },
  "language_info": {
   "codemirror_mode": {
    "name": "ipython",
    "version": 3
   },
   "file_extension": ".py",
   "mimetype": "text/x-python",
   "name": "python",
   "nbconvert_exporter": "python",
   "pygments_lexer": "ipython3",
   "version": "3.7.0"
  }
 },
 "nbformat": 4,
 "nbformat_minor": 2
}
